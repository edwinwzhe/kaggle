{
 "cells": [
  {
   "cell_type": "code",
   "execution_count": 1,
   "metadata": {},
   "outputs": [
    {
     "name": "stdout",
     "output_type": "stream",
     "text": [
      "Number of train data: 29400\n",
      "Number of valid data: 9450\n",
      "Number of test data: 3150\n",
      "Number of target data: 28000\n"
     ]
    }
   ],
   "source": [
    "import numpy as np\n",
    "import pandas as pd\n",
    "from sklearn.model_selection import train_test_split\n",
    "\n",
    "## Load and split data\n",
    "train_csv = 'data/train.csv'\n",
    "test_csv = 'data/test.csv'\n",
    "\n",
    "train_data = np.genfromtxt(train_csv, delimiter=',', skip_header=1)\n",
    "target_X = np.genfromtxt(test_csv, delimiter=',', skip_header=1)\n",
    "\n",
    "train_X, valid_X, train_y, valid_y = train_test_split(train_data[:,1:], train_data[:,0], test_size = 0.3, random_state=1)\n",
    "valid_X, test_X, valid_y, test_y = train_test_split(valid_X, valid_y, test_size = 0.25, random_state=1)\n",
    "\n",
    "# Normalize\n",
    "train_X /= 255\n",
    "valid_X /= 255\n",
    "test_X /= 255\n",
    "target_X /= 255\n",
    "\n",
    "# Count\n",
    "print('Number of train data: {}'.format(train_X.shape[0]))\n",
    "print('Number of valid data: {}'.format(valid_X.shape[0]))\n",
    "print('Number of test data: {}'.format(test_X.shape[0]))\n",
    "print('Number of target data: {}'.format(target_X.shape[0]))"
   ]
  },
  {
   "cell_type": "code",
   "execution_count": 9,
   "metadata": {},
   "outputs": [],
   "source": [
    "# Image Augmentation\n",
    "from keras.preprocessing.image import ImageDataGenerator\n",
    "\n",
    "datagen = ImageDataGenerator(\n",
    "    #featurewise_center=True,\n",
    "    #featurewise_std_normalization=True,\n",
    "    #shear_range=0.5\n",
    "    rotation_range=20,\n",
    "    zoom_range=0.2,\n",
    "    #width_shift_range=0.5,\n",
    "    #height_shift_range=0.5,\n",
    "    #horizontal_flip=False,\n",
    "    #vertical_flip=False\n",
    ")\n",
    "\n",
    "datagen.fit(train_X.reshape(-1, 28, 28, 1))"
   ]
  },
  {
   "cell_type": "code",
   "execution_count": 10,
   "metadata": {},
   "outputs": [
    {
     "data": {
      "image/png": "[encoded data removed]",
      "text/plain": [
       "<matplotlib.figure.Figure at 0x7f64e59d0c18>"
      ]
     },
     "metadata": {},
     "output_type": "display_data"
    }
   ],
   "source": [
    "from keras.utils.np_utils import to_categorical\n",
    "\n",
    "# Visualizing augmented data\n",
    "import matplotlib.pyplot as plt\n",
    "%matplotlib inline\n",
    "\n",
    "for x_batch, y_batch in datagen.flow(train_X.reshape([-1, 28, 28, 1]), to_categorical(train_y, num_classes=10), batch_size=9):\n",
    "    for i, x in enumerate(x_batch):\n",
    "        plt.subplot(330 + i + 1)\n",
    "        plt.imshow(x.reshape([28,28]))\n",
    "        \n",
    "    break"
   ]
  },
  {
   "cell_type": "code",
   "execution_count": 11,
   "metadata": {},
   "outputs": [
    {
     "name": "stdout",
     "output_type": "stream",
     "text": [
      "_________________________________________________________________\n",
      "Layer (type)                 Output Shape              Param #   \n",
      "=================================================================\n",
      "input_2 (InputLayer)         (None, 28, 28, 1)         0         \n",
      "_________________________________________________________________\n",
      "conv2d_5 (Conv2D)            (None, 28, 28, 32)        320       \n",
      "_________________________________________________________________\n",
      "conv2d_6 (Conv2D)            (None, 28, 28, 32)        9248      \n",
      "_________________________________________________________________\n",
      "max_pooling2d_3 (MaxPooling2 (None, 14, 14, 32)        0         \n",
      "_________________________________________________________________\n",
      "dropout_4 (Dropout)          (None, 14, 14, 32)        0         \n",
      "_________________________________________________________________\n",
      "conv2d_7 (Conv2D)            (None, 14, 14, 64)        18496     \n",
      "_________________________________________________________________\n",
      "conv2d_8 (Conv2D)            (None, 14, 14, 64)        36928     \n",
      "_________________________________________________________________\n",
      "max_pooling2d_4 (MaxPooling2 (None, 7, 7, 64)          0         \n",
      "_________________________________________________________________\n",
      "dropout_5 (Dropout)          (None, 7, 7, 64)          0         \n",
      "_________________________________________________________________\n",
      "flatten_2 (Flatten)          (None, 3136)              0         \n",
      "_________________________________________________________________\n",
      "dense_3 (Dense)              (None, 512)               1606144   \n",
      "_________________________________________________________________\n",
      "dropout_6 (Dropout)          (None, 512)               0         \n",
      "_________________________________________________________________\n",
      "dense_4 (Dense)              (None, 10)                5130      \n",
      "=================================================================\n",
      "Total params: 1,676,266\n",
      "Trainable params: 1,676,266\n",
      "Non-trainable params: 0\n",
      "_________________________________________________________________\n"
     ]
    }
   ],
   "source": [
    "# Build Model\n",
    "from keras.layers import MaxPool2D, Conv2D, Dense, GlobalAveragePooling2D, Flatten, Dropout, BatchNormalization, InputLayer\n",
    "from keras.models import Sequential\n",
    "\n",
    "NETWORK = 3\n",
    "\n",
    "model = Sequential()\n",
    "model.add(InputLayer(input_shape=(28, 28, 1)))\n",
    "    \n",
    "if NETWORK == 0:\n",
    "    # 0.98128\n",
    "    model.add(Conv2D(filters=16, kernel_size=3, strides=1, activation='relu'))\n",
    "    model.add(MaxPool2D())\n",
    "    model.add(Conv2D(filters=32, kernel_size=3, strides=1, activation='relu'))\n",
    "    model.add(MaxPool2D())\n",
    "    model.add(Flatten())\n",
    "    model.add(Dense(100, activation='tanh'))\n",
    "\n",
    "elif NETWORK == 1:\n",
    "    # 0.98714 - using GAP\n",
    "    # 0.99142 - Using Flatten - Dense - no dropout - 50 epochs\n",
    "    model.add(Conv2D(filters=16, kernel_size=3, strides=1, activation='relu', padding='same'))\n",
    "    model.add(MaxPool2D())\n",
    "    model.add(BatchNormalization())\n",
    "    model.add(Conv2D(filters=32, kernel_size=3, strides=1, activation='relu', padding='same'))\n",
    "    model.add(MaxPool2D())\n",
    "    model.add(BatchNormalization())\n",
    "    model.add(Conv2D(filters=64, kernel_size=3, strides=1, activation='relu', padding='same'))\n",
    "    model.add(MaxPool2D())\n",
    "    model.add(BatchNormalization())\n",
    "    model.add(Flatten())\n",
    "    model.add(Dense(128, activation='tanh'))\n",
    "    #model.add(Dropout(rate=0.25))\n",
    "    # GAP\n",
    "    #model.add(GlobalAveragePooling2D())\n",
    "\n",
    "elif NETWORK == 2:\n",
    "    # 0.99257 - 32x3x3 - 64x3x3 - Flatten - Dense(512)\n",
    "    model.add(Conv2D(filters=32, kernel_size=3, strides=1, activation='relu', padding='same'))\n",
    "    model.add(Conv2D(filters=32, kernel_size=3, strides=1, activation='relu', padding='same'))\n",
    "    model.add(MaxPool2D())\n",
    "    model.add(Dropout(rate=0.5))\n",
    "    \n",
    "    model.add(Conv2D(filters=64, kernel_size=3, strides=1, activation='relu', padding='same'))\n",
    "    model.add(Conv2D(filters=64, kernel_size=3, strides=1, activation='relu', padding='same'))\n",
    "    model.add(MaxPool2D())\n",
    "    model.add(Dropout(rate=0.5))\n",
    "    \n",
    "    model.add(Flatten())\n",
    "    model.add(Dense(512, activation='relu'))\n",
    "    model.add(Dropout(rate=0.5))\n",
    "    \n",
    "\n",
    "elif NETWORK == 3:\n",
    "    model.add(Conv2D(filters=32, kernel_size=3, strides=1, activation='relu', padding='same'))\n",
    "    model.add(Conv2D(filters=32, kernel_size=3, strides=1, activation='relu', padding='same'))\n",
    "    model.add(MaxPool2D())\n",
    "    model.add(Dropout(rate=0.5))\n",
    "    \n",
    "    model.add(Conv2D(filters=64, kernel_size=3, strides=1, activation='relu', padding='same'))\n",
    "    model.add(Conv2D(filters=64, kernel_size=3, strides=1, activation='relu', padding='same'))\n",
    "    model.add(MaxPool2D())\n",
    "    model.add(Dropout(rate=0.5))\n",
    "    \n",
    "    model.add(Flatten())\n",
    "    model.add(Dense(512, activation='relu'))\n",
    "    model.add(Dropout(rate=0.5))\n",
    "\n",
    "    \n",
    "model.add(Dense(10, activation='softmax'))\n",
    "\n",
    "\n",
    "from keras.optimizers import RMSprop, Adam, Adamax\n",
    "model.compile(optimizer=Adamax(), loss='categorical_crossentropy', metrics=['accuracy'])\n",
    "\n",
    "model.summary()"
   ]
  },
  {
   "cell_type": "code",
   "execution_count": 12,
   "metadata": {
    "scrolled": false
   },
   "outputs": [
    {
     "name": "stdout",
     "output_type": "stream",
     "text": [
      "Epoch 00000: val_loss improved from inf to 0.06547, saving model to saved_models/weights.best.hdf5\n",
      "Epoch 00001: val_loss improved from 0.06547 to 0.04973, saving model to saved_models/weights.best.hdf5\n",
      "Epoch 00002: val_loss improved from 0.04973 to 0.04062, saving model to saved_models/weights.best.hdf5\n",
      "Epoch 00003: val_loss improved from 0.04062 to 0.03874, saving model to saved_models/weights.best.hdf5\n",
      "Epoch 00004: val_loss did not improve\n",
      "Epoch 00005: val_loss did not improve\n",
      "Epoch 00006: val_loss improved from 0.03874 to 0.03252, saving model to saved_models/weights.best.hdf5\n",
      "Epoch 00007: val_loss improved from 0.03252 to 0.03076, saving model to saved_models/weights.best.hdf5\n",
      "Epoch 00008: val_loss did not improve\n",
      "Epoch 00009: val_loss improved from 0.03076 to 0.03025, saving model to saved_models/weights.best.hdf5\n",
      "Epoch 00010: val_loss did not improve\n",
      "Epoch 00011: val_loss improved from 0.03025 to 0.02957, saving model to saved_models/weights.best.hdf5\n",
      "Epoch 00012: val_loss improved from 0.02957 to 0.02752, saving model to saved_models/weights.best.hdf5\n",
      "Epoch 00013: val_loss did not improve\n",
      "Epoch 00014: val_loss did not improve\n",
      "Epoch 00015: val_loss improved from 0.02752 to 0.02723, saving model to saved_models/weights.best.hdf5\n",
      "Epoch 00016: val_loss improved from 0.02723 to 0.02697, saving model to saved_models/weights.best.hdf5\n",
      "Epoch 00017: val_loss improved from 0.02697 to 0.02672, saving model to saved_models/weights.best.hdf5\n",
      "Epoch 00018: val_loss improved from 0.02672 to 0.02508, saving model to saved_models/weights.best.hdf5\n",
      "Epoch 00019: val_loss improved from 0.02508 to 0.02455, saving model to saved_models/weights.best.hdf5\n",
      "Epoch 00020: val_loss did not improve\n",
      "Epoch 00021: val_loss improved from 0.02455 to 0.02389, saving model to saved_models/weights.best.hdf5\n",
      "Epoch 00022: val_loss did not improve\n",
      "Epoch 00023: val_loss did not improve\n",
      "Epoch 00024: val_loss did not improve\n",
      "Epoch 00025: val_loss did not improve\n",
      "Epoch 00026: val_loss did not improve\n",
      "Epoch 00027: val_loss did not improve\n",
      "Epoch 00028: val_loss improved from 0.02389 to 0.02284, saving model to saved_models/weights.best.hdf5\n",
      "Epoch 00029: val_loss improved from 0.02284 to 0.02264, saving model to saved_models/weights.best.hdf5\n",
      "Epoch 00030: val_loss did not improve\n",
      "Epoch 00031: val_loss did not improve\n",
      "Epoch 00032: val_loss did not improve\n",
      "Epoch 00033: val_loss did not improve\n",
      "Epoch 00034: val_loss did not improve\n",
      "Epoch 00035: val_loss improved from 0.02264 to 0.02141, saving model to saved_models/weights.best.hdf5\n",
      "Epoch 00036: val_loss improved from 0.02141 to 0.02136, saving model to saved_models/weights.best.hdf5\n",
      "Epoch 00037: val_loss did not improve\n",
      "Epoch 00038: val_loss did not improve\n",
      "Epoch 00039: val_loss did not improve\n",
      "Epoch 00040: val_loss did not improve\n",
      "Epoch 00041: val_loss did not improve\n",
      "Epoch 00042: val_loss did not improve\n",
      "Epoch 00043: val_loss did not improve\n",
      "Epoch 00044: val_loss improved from 0.02136 to 0.02119, saving model to saved_models/weights.best.hdf5\n",
      "Epoch 00045: val_loss did not improve\n",
      "Epoch 00046: val_loss did not improve\n",
      "Epoch 00047: val_loss did not improve\n",
      "Epoch 00048: val_loss did not improve\n",
      "Epoch 00049: val_loss did not improve\n",
      "Epoch 00050: val_loss improved from 0.02119 to 0.02108, saving model to saved_models/weights.best.hdf5\n",
      "Epoch 00051: val_loss did not improve\n",
      "Epoch 00052: val_loss did not improve\n",
      "Epoch 00053: val_loss did not improve\n",
      "Epoch 00054: val_loss did not improve\n",
      "Epoch 00055: val_loss did not improve\n",
      "Epoch 00056: val_loss did not improve\n",
      "Epoch 00057: val_loss did not improve\n",
      "Epoch 00058: val_loss improved from 0.02108 to 0.02049, saving model to saved_models/weights.best.hdf5\n",
      "Epoch 00059: val_loss did not improve\n",
      "Epoch 00060: val_loss did not improve\n",
      "Epoch 00061: val_loss did not improve\n",
      "Epoch 00062: val_loss improved from 0.02049 to 0.02007, saving model to saved_models/weights.best.hdf5\n",
      "Epoch 00063: val_loss did not improve\n",
      "Epoch 00064: val_loss did not improve\n",
      "Epoch 00065: val_loss did not improve\n",
      "Epoch 00066: val_loss did not improve\n",
      "Epoch 00067: val_loss did not improve\n",
      "Epoch 00068: val_loss did not improve\n",
      "Epoch 00069: val_loss did not improve\n",
      "Epoch 00070: val_loss did not improve\n",
      "Epoch 00071: val_loss improved from 0.02007 to 0.01909, saving model to saved_models/weights.best.hdf5\n",
      "Epoch 00072: val_loss did not improve\n",
      "Epoch 00073: val_loss improved from 0.01909 to 0.01908, saving model to saved_models/weights.best.hdf5\n",
      "Epoch 00074: val_loss did not improve\n",
      "Epoch 00075: val_loss did not improve\n",
      "Epoch 00076: val_loss did not improve\n",
      "Epoch 00077: val_loss did not improve\n",
      "Epoch 00078: val_loss did not improve\n",
      "Epoch 00079: val_loss did not improve\n",
      "Epoch 00080: val_loss did not improve\n",
      "Epoch 00081: val_loss did not improve\n",
      "Epoch 00082: val_loss did not improve\n",
      "Epoch 00083: val_loss improved from 0.01908 to 0.01859, saving model to saved_models/weights.best.hdf5\n",
      "Epoch 00084: val_loss did not improve\n",
      "Epoch 00085: val_loss did not improve\n",
      "Epoch 00086: val_loss did not improve\n",
      "Epoch 00087: val_loss did not improve\n",
      "Epoch 00088: val_loss did not improve\n",
      "Epoch 00089: val_loss did not improve\n",
      "Epoch 00090: val_loss did not improve\n",
      "Epoch 00091: val_loss did not improve\n",
      "Epoch 00092: val_loss did not improve\n",
      "Epoch 00093: val_loss did not improve\n",
      "Epoch 00094: val_loss did not improve\n"
     ]
    },
    {
     "data": {
      "text/plain": [
       "<keras.callbacks.History at 0x7f64e4334e48>"
      ]
     },
     "execution_count": 12,
     "metadata": {},
     "output_type": "execute_result"
    }
   ],
   "source": [
    "from keras.callbacks import ModelCheckpoint, EarlyStopping  \n",
    "\n",
    "epochs = 100\n",
    "\n",
    "checkpointer = ModelCheckpoint(filepath='saved_models/weights.best.hdf5', \n",
    "                               verbose=1, save_best_only=True)\n",
    "earlystopper = EarlyStopping(monitor='val_loss', min_delta=0, patience=10, verbose=0, mode='auto')\n",
    "\n",
    "### Train with raw data ###\n",
    "#model.fit(train_X.reshape([-1, 28, 28, 1]), to_categorical(train_y, num_classes=10), \n",
    "#          validation_data=(valid_X.reshape([-1, 28, 28, 1]), to_categorical(valid_y, num_classes=10)),\n",
    "#          epochs=epochs, batch_size=20, callbacks=[checkpointer, earlystopper], verbose=0)\n",
    "\n",
    "### Train with augmented data ###\n",
    "model.fit_generator(datagen.flow(train_X.reshape([-1, 28, 28, 1]), to_categorical(train_y, num_classes=10), batch_size=20),\n",
    "                    validation_data=(valid_X.reshape([-1, 28, 28, 1]), to_categorical(valid_y, num_classes=10)),\n",
    "                    steps_per_epoch=len(train_X) / 20, epochs=epochs, callbacks=[checkpointer, earlystopper], verbose=0)"
   ]
  },
  {
   "cell_type": "code",
   "execution_count": 6,
   "metadata": {},
   "outputs": [
    {
     "name": "stdout",
     "output_type": "stream",
     "text": [
      "Training   Accuracy: 0.9935\n",
      "Validation Accuracy: 0.9904\n",
      "Test       Accuracy: 0.9930\n"
     ]
    }
   ],
   "source": [
    "model.load_weights('saved_models/weights.best.hdf5')\n",
    "\n",
    "train_y_hat = model.predict(train_X.reshape([-1, 28, 28, 1]))\n",
    "print('Training   Accuracy: {:.4f}'.format(np.mean(np.argmax(train_y_hat, axis=1) == train_y)))\n",
    "\n",
    "valid_y_hat = model.predict(valid_X.reshape([-1, 28, 28, 1]))\n",
    "print('Validation Accuracy: {:.4f}'.format(np.mean(np.argmax(valid_y_hat, axis=1) == valid_y)))\n",
    "\n",
    "test_y_hat = model.predict(test_X.reshape([-1, 28, 28, 1]))\n",
    "print('Test       Accuracy: {:.4f}'.format(np.mean(np.argmax(test_y_hat, axis=1) == test_y)))"
   ]
  },
  {
   "cell_type": "code",
   "execution_count": 7,
   "metadata": {
    "collapsed": true
   },
   "outputs": [],
   "source": [
    "# Generate Target prediction for submition\n",
    "target_y_hat = model.predict(target_X.reshape([-1, 28, 28, 1]))\n",
    "target_y_hat = np.argmax(target_y_hat, axis=1)"
   ]
  },
  {
   "cell_type": "code",
   "execution_count": 8,
   "metadata": {
    "collapsed": true
   },
   "outputs": [],
   "source": [
    "# Output as format required\n",
    "target_y_hat_pd = pd.DataFrame(target_y_hat, columns=['Label'])\n",
    "target_y_hat_pd.index += 1\n",
    "target_y_hat_pd.index.name = 'ImageId'\n",
    "target_y_hat_pd.to_csv('predition.csv')"
   ]
  },
  {
   "cell_type": "code",
   "execution_count": null,
   "metadata": {
    "collapsed": true
   },
   "outputs": [],
   "source": []
  }
 ],
 "metadata": {
  "kernelspec": {
   "display_name": "Python 3",
   "language": "python",
   "name": "python3"
  },
  "language_info": {
   "codemirror_mode": {
    "name": "ipython",
    "version": 3
   },
   "file_extension": ".py",
   "mimetype": "text/x-python",
   "name": "python",
   "nbconvert_exporter": "python",
   "pygments_lexer": "ipython3",
   "version": "3.6.2"
  }
 },
 "nbformat": 4,
 "nbformat_minor": 2
}
