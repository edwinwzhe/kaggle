{
 "cells": [
  {
   "cell_type": "code",
   "execution_count": 1,
   "metadata": {},
   "outputs": [
    {
     "name": "stdout",
     "output_type": "stream",
     "text": [
      "Number of train data: 29400\n",
      "Number of valid data: 9450\n",
      "Number of test data: 3150\n",
      "Number of target data: 28000\n"
     ]
    }
   ],
   "source": [
    "import numpy as np\n",
    "import pandas as pd\n",
    "from sklearn.model_selection import train_test_split\n",
    "\n",
    "## Load and split data\n",
    "train_csv = 'data/train.csv'\n",
    "test_csv = 'data/test.csv'\n",
    "\n",
    "train_data = np.genfromtxt(train_csv, delimiter=',', skip_header=1)\n",
    "target_data = np.genfromtxt(test_csv, delimiter=',', skip_header=1)\n",
    "\n",
    "train_X, valid_X, train_y, valid_y = train_test_split(train_data[:,1:], train_data[:,0], test_size = 0.3, random_state=1)\n",
    "valid_X, test_X, valid_y, test_y = train_test_split(valid_X, valid_y, test_size = 0.25, random_state=1)\n",
    "\n",
    "# Normalize\n",
    "train_X = train_X / 255\n",
    "valid_X = valid_X / 255\n",
    "test_X = test_X / 255\n",
    "target_X = target_data / 255\n",
    "\n",
    "# Count\n",
    "print('Number of train data: {}'.format(train_X.shape[0]))\n",
    "print('Number of valid data: {}'.format(valid_X.shape[0]))\n",
    "print('Number of test data: {}'.format(test_X.shape[0]))\n",
    "print('Number of target data: {}'.format(target_X.shape[0]))"
   ]
  },
  {
   "cell_type": "code",
   "execution_count": 2,
   "metadata": {},
   "outputs": [
    {
     "name": "stderr",
     "output_type": "stream",
     "text": [
      "Using TensorFlow backend.\n"
     ]
    },
    {
     "name": "stdout",
     "output_type": "stream",
     "text": [
      "_________________________________________________________________\n",
      "Layer (type)                 Output Shape              Param #   \n",
      "=================================================================\n",
      "input_1 (InputLayer)         (None, 28, 28, 1)         0         \n",
      "_________________________________________________________________\n",
      "conv2d_1 (Conv2D)            (None, 26, 26, 16)        160       \n",
      "_________________________________________________________________\n",
      "max_pooling2d_1 (MaxPooling2 (None, 13, 13, 16)        0         \n",
      "_________________________________________________________________\n",
      "conv2d_2 (Conv2D)            (None, 11, 11, 32)        4640      \n",
      "_________________________________________________________________\n",
      "max_pooling2d_2 (MaxPooling2 (None, 5, 5, 32)          0         \n",
      "_________________________________________________________________\n",
      "flatten_1 (Flatten)          (None, 800)               0         \n",
      "_________________________________________________________________\n",
      "dense_1 (Dense)              (None, 100)               80100     \n",
      "_________________________________________________________________\n",
      "dense_2 (Dense)              (None, 10)                1010      \n",
      "=================================================================\n",
      "Total params: 85,910\n",
      "Trainable params: 85,910\n",
      "Non-trainable params: 0\n",
      "_________________________________________________________________\n"
     ]
    }
   ],
   "source": [
    "# Build Model\n",
    "from keras.layers import MaxPool2D, Conv2D, Dense, GlobalAveragePooling2D, Flatten, Dropout, BatchNormalization, InputLayer\n",
    "from keras.models import Sequential\n",
    "\n",
    "NETWORK = 0\n",
    "\n",
    "model = Sequential()\n",
    "model.add(InputLayer(input_shape=(28, 28, 1)))\n",
    "    \n",
    "if NETWORK == 0:\n",
    "    # 0.98128\n",
    "    model.add(Conv2D(filters=16, kernel_size=3, strides=1, activation='relu'))\n",
    "    model.add(MaxPool2D())\n",
    "    model.add(Conv2D(filters=32, kernel_size=3, strides=1, activation='relu'))\n",
    "    model.add(MaxPool2D())\n",
    "    model.add(Flatten())\n",
    "    model.add(Dense(100, activation='tanh'))\n",
    "\n",
    "elif NETWORK == 1:\n",
    "    # 0.98714 - using GAP\n",
    "    model.add(Conv2D(filters=16, kernel_size=3, strides=1, activation='relu', padding='same'))\n",
    "    model.add(MaxPool2D())\n",
    "    model.add(BatchNormalization())\n",
    "    model.add(Conv2D(filters=32, kernel_size=3, strides=1, activation='relu', padding='same'))\n",
    "    model.add(MaxPool2D())\n",
    "    model.add(BatchNormalization())\n",
    "    model.add(Conv2D(filters=64, kernel_size=3, strides=1, activation='relu', padding='same'))\n",
    "    model.add(MaxPool2D())\n",
    "    model.add(BatchNormalization())\n",
    "    model.add(Flatten())\n",
    "    model.add(Dense(128, activation='tanh'))\n",
    "    model.add(Dropout(rate=0.25))\n",
    "    \n",
    "    # GAP\n",
    "    #model.add(GlobalAveragePooling2D())\n",
    "\n",
    "model.add(Dense(10, activation='softmax'))\n",
    "\n",
    "\n",
    "from keras.optimizers import RMSprop, Adam\n",
    "model.compile(optimizer=Adam(), loss='categorical_crossentropy', metrics=['accuracy'])\n",
    "\n",
    "model.summary()"
   ]
  },
  {
   "cell_type": "code",
   "execution_count": 3,
   "metadata": {
    "scrolled": false
   },
   "outputs": [
    {
     "name": "stdout",
     "output_type": "stream",
     "text": [
      "Epoch 00000: val_loss improved from inf to 0.06918, saving model to saved_models/weights.best.hdf5\n",
      "Epoch 00001: val_loss improved from 0.06918 to 0.06147, saving model to saved_models/weights.best.hdf5\n",
      "Epoch 00002: val_loss improved from 0.06147 to 0.05416, saving model to saved_models/weights.best.hdf5\n",
      "Epoch 00003: val_loss improved from 0.05416 to 0.04574, saving model to saved_models/weights.best.hdf5\n",
      "Epoch 00004: val_loss improved from 0.04574 to 0.04570, saving model to saved_models/weights.best.hdf5\n",
      "Epoch 00005: val_loss did not improve\n",
      "Epoch 00006: val_loss did not improve\n",
      "Epoch 00007: val_loss improved from 0.04570 to 0.04289, saving model to saved_models/weights.best.hdf5\n",
      "Epoch 00008: val_loss did not improve\n",
      "Epoch 00009: val_loss did not improve\n",
      "Epoch 00010: val_loss did not improve\n",
      "Epoch 00011: val_loss did not improve\n",
      "Epoch 00012: val_loss did not improve\n",
      "Epoch 00013: val_loss did not improve\n",
      "Epoch 00014: val_loss did not improve\n",
      "Epoch 00015: val_loss did not improve\n",
      "Epoch 00016: val_loss did not improve\n",
      "Epoch 00017: val_loss did not improve\n",
      "Epoch 00018: val_loss did not improve\n",
      "Epoch 00019: val_loss did not improve\n"
     ]
    },
    {
     "data": {
      "text/plain": [
       "<keras.callbacks.History at 0x7fbff50f0eb8>"
      ]
     },
     "execution_count": 3,
     "metadata": {},
     "output_type": "execute_result"
    }
   ],
   "source": [
    "from keras.callbacks import ModelCheckpoint  \n",
    "from keras.utils.np_utils import to_categorical\n",
    "\n",
    "epochs = 20\n",
    "\n",
    "checkpointer = ModelCheckpoint(filepath='saved_models/weights.best.hdf5', \n",
    "                               verbose=1, save_best_only=True)\n",
    "\n",
    "model.fit(train_X.reshape([-1, 28, 28, 1]), to_categorical(train_y, num_classes=10), \n",
    "          validation_data=(valid_X.reshape([-1, 28, 28, 1]), to_categorical(valid_y, num_classes=10)),\n",
    "          epochs=epochs, batch_size=20, callbacks=[checkpointer], verbose=0)"
   ]
  },
  {
   "cell_type": "code",
   "execution_count": 4,
   "metadata": {},
   "outputs": [
    {
     "name": "stdout",
     "output_type": "stream",
     "text": [
      "Validation Accuracy: 0.9883\n",
      "Test       Accuracy: 0.9886\n"
     ]
    }
   ],
   "source": [
    "model.load_weights('saved_models/weights.best.hdf5')\n",
    "\n",
    "valid_y_hat = model.predict(valid_X.reshape([-1, 28, 28, 1]))\n",
    "print('Validation Accuracy: {:.4f}'.format(np.mean(np.argmax(valid_y_hat, axis=1) == valid_y)))\n",
    "\n",
    "test_y_hat = model.predict(test_X.reshape([-1, 28, 28, 1]))\n",
    "print('Test       Accuracy: {:.4f}'.format(np.mean(np.argmax(test_y_hat, axis=1) == test_y)))"
   ]
  },
  {
   "cell_type": "code",
   "execution_count": 5,
   "metadata": {},
   "outputs": [],
   "source": [
    "# Generate Target prediction for submition\n",
    "target_y_hat = model.predict(target_X.reshape([-1, 28, 28, 1]))\n",
    "target_y_hat = np.argmax(target_y_hat, axis=1)"
   ]
  },
  {
   "cell_type": "code",
   "execution_count": 6,
   "metadata": {},
   "outputs": [],
   "source": [
    "# Output as format required\n",
    "target_y_hat_pd = pd.DataFrame(target_y_hat, columns=['Label'])\n",
    "target_y_hat_pd.index += 1\n",
    "target_y_hat_pd.index.name = 'ImageId'\n",
    "target_y_hat_pd.to_csv('predition.csv')"
   ]
  },
  {
   "cell_type": "code",
   "execution_count": null,
   "metadata": {
    "collapsed": true
   },
   "outputs": [],
   "source": []
  }
 ],
 "metadata": {
  "kernelspec": {
   "display_name": "Python 3",
   "language": "python",
   "name": "python3"
  },
  "language_info": {
   "codemirror_mode": {
    "name": "ipython",
    "version": 3
   },
   "file_extension": ".py",
   "mimetype": "text/x-python",
   "name": "python",
   "nbconvert_exporter": "python",
   "pygments_lexer": "ipython3",
   "version": "3.6.2"
  }
 },
 "nbformat": 4,
 "nbformat_minor": 2
}
